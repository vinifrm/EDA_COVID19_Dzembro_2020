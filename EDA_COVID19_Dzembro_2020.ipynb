{
 "cells": [
  {
   "cell_type": "markdown",
   "metadata": {
    "heading_collapsed": true
   },
   "source": [
    "# LINKS E FONTES"
   ]
  },
  {
   "cell_type": "markdown",
   "metadata": {
    "hidden": true
   },
   "source": [
    " * Dataset: https://brasil.io/dataset/covid19/files/\n",
    " * Renda per capita dos estados brasileiros: https://pt.wikipedia.org/wiki/Lista_de_unidades_federativas_do_Brasil_por_renda_per_capita\n",
    " * Cidades da baixada fluminense:https://pt.wikipedia.org/wiki/Baixada_Fluminense"
   ]
  },
  {
   "cell_type": "markdown",
   "metadata": {
    "heading_collapsed": true
   },
   "source": [
    "# DICIONÁRIO DE DADOS"
   ]
  },
  {
   "cell_type": "markdown",
   "metadata": {
    "hidden": true
   },
   "source": [
    "🔍 date: data de coleta dos dados no formato YYYY-MM-DD.\n",
    "\n",
    "🔍 state: sigla da unidade federativa, exemplo: SP.\n",
    "\n",
    "🔍 city: nome do município (pode estar em branco quando o registro é referente ao estado, pode ser preenchido com Importados/Indefinidos também).\n",
    "\n",
    "🔍 place_type: tipo de local que esse registro descreve, pode ser city ou state.\n",
    "\n",
    "🔍 order_for_place: número que identifica a ordem do registro para este local. O registro referente ao primeiro boletim em que esse local aparecer será contabilizado como 1 e os demais boletins incrementarão esse valor.\n",
    "\n",
    "🔍 is_last: campo pré-computado que diz se esse registro é o mais novo para esse local, pode ser True ou False (caso filtre por esse campo, use is_last=True ou is_last=False, não use o valor em minúsculas).\n",
    "\n",
    "🔍 city_ibge_code: código IBGE do local.\n",
    "\n",
    "🔍confirmed: número de casos confirmados.\n",
    "\n",
    "🔍deaths: número de mortes.\n",
    "\n",
    "🔍estimated_population: população estimada para esse município/estado em 2020, segundo o IBGE. (acesse o script que faz o download e conversão dos dados de população).\n",
    "\n",
    "🔍estimated_population_2019: população estimada para esse município/estado em 2019, segundo o IBGE. ATENÇÃO: essa coluna possui valores desatualizados, prefira usar a coluna estimated_population.\n",
    "\n",
    "🔍confirmed_per_100k_inhabitants: número de casos confirmados por 100.000 habitantes (baseado em estimated_population).\n",
    "\n",
    "🔍death_rate: taxa de mortalidade (mortes / confirmados)."
   ]
  },
  {
   "cell_type": "markdown",
   "metadata": {
    "heading_collapsed": true
   },
   "source": [
    "# 0.0. RESUMO"
   ]
  },
  {
   "cell_type": "markdown",
   "metadata": {
    "heading_collapsed": true,
    "hidden": true
   },
   "source": [
    "##### Nesse trabalho iremos analisar o dataset **\"caso\"**, encontrado no link da sessão **LINKS**, logo acima.Tal dataset possui informações sobre os casos de **COVID-19** pelo Brasil, com informações como data, cidade, estado, população, etc.\n"
   ]
  },
  {
   "cell_type": "code",
   "execution_count": 1,
   "metadata": {
    "hidden": true
   },
   "outputs": [],
   "source": [
    "# Gostaria de saber se os tópicos Markdown estão de acordo com o que foi codificado em seus corpos"
   ]
  },
  {
   "cell_type": "markdown",
   "metadata": {
    "heading_collapsed": true
   },
   "source": [
    "# 1.0. IMPORTS E LOADINGS"
   ]
  },
  {
   "cell_type": "code",
   "execution_count": 2,
   "metadata": {
    "hidden": true
   },
   "outputs": [],
   "source": [
    "import pandas as pd\n",
    "import numpy as np\n",
    "import matplotlib.pyplot as plt\n",
    "import matplotlib.ticker as ticker\n",
    "import seaborn as sns\n",
    "import warnings\n",
    "warnings.filterwarnings('ignore')\n",
    "from IPython.display import Image as img"
   ]
  },
  {
   "cell_type": "markdown",
   "metadata": {
    "hidden": true
   },
   "source": [
    "## 0.1. Leitura dos dados"
   ]
  },
  {
   "cell_type": "code",
   "execution_count": 6,
   "metadata": {
    "hidden": true
   },
   "outputs": [],
   "source": [
    "dados = pd.read_csv('data/caso.csv')"
   ]
  },
  {
   "cell_type": "code",
   "execution_count": 7,
   "metadata": {
    "hidden": true
   },
   "outputs": [
    {
     "data": {
      "text/html": [
       "<div>\n",
       "<style scoped>\n",
       "    .dataframe tbody tr th:only-of-type {\n",
       "        vertical-align: middle;\n",
       "    }\n",
       "\n",
       "    .dataframe tbody tr th {\n",
       "        vertical-align: top;\n",
       "    }\n",
       "\n",
       "    .dataframe thead th {\n",
       "        text-align: right;\n",
       "    }\n",
       "</style>\n",
       "<table border=\"1\" class=\"dataframe\">\n",
       "  <thead>\n",
       "    <tr style=\"text-align: right;\">\n",
       "      <th></th>\n",
       "      <th>date</th>\n",
       "      <th>state</th>\n",
       "      <th>city</th>\n",
       "      <th>place_type</th>\n",
       "      <th>confirmed</th>\n",
       "      <th>deaths</th>\n",
       "      <th>order_for_place</th>\n",
       "      <th>is_last</th>\n",
       "      <th>estimated_population_2019</th>\n",
       "      <th>estimated_population</th>\n",
       "      <th>city_ibge_code</th>\n",
       "      <th>confirmed_per_100k_inhabitants</th>\n",
       "      <th>death_rate</th>\n",
       "    </tr>\n",
       "  </thead>\n",
       "  <tbody>\n",
       "    <tr>\n",
       "      <th>0</th>\n",
       "      <td>2020-11-10</td>\n",
       "      <td>AP</td>\n",
       "      <td>NaN</td>\n",
       "      <td>state</td>\n",
       "      <td>53574</td>\n",
       "      <td>766</td>\n",
       "      <td>231</td>\n",
       "      <td>True</td>\n",
       "      <td>845731.0</td>\n",
       "      <td>861773.0</td>\n",
       "      <td>16.0</td>\n",
       "      <td>6216.71832</td>\n",
       "      <td>0.0143</td>\n",
       "    </tr>\n",
       "    <tr>\n",
       "      <th>1</th>\n",
       "      <td>2020-11-09</td>\n",
       "      <td>AP</td>\n",
       "      <td>NaN</td>\n",
       "      <td>state</td>\n",
       "      <td>53330</td>\n",
       "      <td>764</td>\n",
       "      <td>230</td>\n",
       "      <td>False</td>\n",
       "      <td>845731.0</td>\n",
       "      <td>861773.0</td>\n",
       "      <td>16.0</td>\n",
       "      <td>6188.40460</td>\n",
       "      <td>0.0143</td>\n",
       "    </tr>\n",
       "    <tr>\n",
       "      <th>2</th>\n",
       "      <td>2020-11-08</td>\n",
       "      <td>AP</td>\n",
       "      <td>NaN</td>\n",
       "      <td>state</td>\n",
       "      <td>53010</td>\n",
       "      <td>751</td>\n",
       "      <td>229</td>\n",
       "      <td>False</td>\n",
       "      <td>845731.0</td>\n",
       "      <td>861773.0</td>\n",
       "      <td>16.0</td>\n",
       "      <td>6151.27185</td>\n",
       "      <td>0.0142</td>\n",
       "    </tr>\n",
       "    <tr>\n",
       "      <th>3</th>\n",
       "      <td>2020-11-03</td>\n",
       "      <td>AP</td>\n",
       "      <td>NaN</td>\n",
       "      <td>state</td>\n",
       "      <td>52832</td>\n",
       "      <td>751</td>\n",
       "      <td>228</td>\n",
       "      <td>False</td>\n",
       "      <td>845731.0</td>\n",
       "      <td>861773.0</td>\n",
       "      <td>16.0</td>\n",
       "      <td>6130.61676</td>\n",
       "      <td>0.0142</td>\n",
       "    </tr>\n",
       "    <tr>\n",
       "      <th>4</th>\n",
       "      <td>2020-11-02</td>\n",
       "      <td>AP</td>\n",
       "      <td>NaN</td>\n",
       "      <td>state</td>\n",
       "      <td>52653</td>\n",
       "      <td>749</td>\n",
       "      <td>227</td>\n",
       "      <td>False</td>\n",
       "      <td>845731.0</td>\n",
       "      <td>861773.0</td>\n",
       "      <td>16.0</td>\n",
       "      <td>6109.84563</td>\n",
       "      <td>0.0142</td>\n",
       "    </tr>\n",
       "  </tbody>\n",
       "</table>\n",
       "</div>"
      ],
      "text/plain": [
       "         date state city place_type  confirmed  deaths  order_for_place  \\\n",
       "0  2020-11-10    AP  NaN      state      53574     766              231   \n",
       "1  2020-11-09    AP  NaN      state      53330     764              230   \n",
       "2  2020-11-08    AP  NaN      state      53010     751              229   \n",
       "3  2020-11-03    AP  NaN      state      52832     751              228   \n",
       "4  2020-11-02    AP  NaN      state      52653     749              227   \n",
       "\n",
       "   is_last  estimated_population_2019  estimated_population  city_ibge_code  \\\n",
       "0     True                   845731.0              861773.0            16.0   \n",
       "1    False                   845731.0              861773.0            16.0   \n",
       "2    False                   845731.0              861773.0            16.0   \n",
       "3    False                   845731.0              861773.0            16.0   \n",
       "4    False                   845731.0              861773.0            16.0   \n",
       "\n",
       "   confirmed_per_100k_inhabitants  death_rate  \n",
       "0                      6216.71832      0.0143  \n",
       "1                      6188.40460      0.0143  \n",
       "2                      6151.27185      0.0142  \n",
       "3                      6130.61676      0.0142  \n",
       "4                      6109.84563      0.0142  "
      ]
     },
     "execution_count": 7,
     "metadata": {},
     "output_type": "execute_result"
    }
   ],
   "source": [
    "dados.head(n = 5)"
   ]
  },
  {
   "cell_type": "markdown",
   "metadata": {
    "heading_collapsed": true
   },
   "source": [
    "# 2.0. DESCRIÇÃO DOS DADOS"
   ]
  },
  {
   "cell_type": "markdown",
   "metadata": {
    "heading_collapsed": true,
    "hidden": true
   },
   "source": [
    "## 2.1. Dimensão dos dados"
   ]
  },
  {
   "cell_type": "code",
   "execution_count": 8,
   "metadata": {
    "hidden": true
   },
   "outputs": [
    {
     "name": "stdout",
     "output_type": "stream",
     "text": [
      "Número de linhas: 953399\n",
      "Número de colunas: 13\n"
     ]
    }
   ],
   "source": [
    "print(f'Número de linhas: {dados.shape[0]}')\n",
    "print(f'Número de colunas: {dados.shape[1]}')"
   ]
  },
  {
   "cell_type": "markdown",
   "metadata": {
    "hidden": true
   },
   "source": [
    "## 2.2. Tipos e Resumo dos dados"
   ]
  },
  {
   "cell_type": "code",
   "execution_count": 9,
   "metadata": {
    "hidden": true
   },
   "outputs": [
    {
     "name": "stdout",
     "output_type": "stream",
     "text": [
      "<class 'pandas.core.frame.DataFrame'>\n",
      "RangeIndex: 953399 entries, 0 to 953398\n",
      "Data columns (total 13 columns):\n",
      "date                              953399 non-null object\n",
      "state                             953399 non-null object\n",
      "city                              946939 non-null object\n",
      "place_type                        953399 non-null object\n",
      "confirmed                         953399 non-null int64\n",
      "deaths                            953399 non-null int64\n",
      "order_for_place                   953399 non-null int64\n",
      "is_last                           953399 non-null bool\n",
      "estimated_population_2019         949687 non-null float64\n",
      "estimated_population              949687 non-null float64\n",
      "city_ibge_code                    949687 non-null float64\n",
      "confirmed_per_100k_inhabitants    936240 non-null float64\n",
      "death_rate                        953399 non-null float64\n",
      "dtypes: bool(1), float64(5), int64(3), object(4)\n",
      "memory usage: 88.2+ MB\n"
     ]
    }
   ],
   "source": [
    "# temos dados nulos nas colunas city, estimated_population_2019, estimated_population, city_ibge_code,\n",
    "# confirmed_per_100k_inhabitants\n",
    "dados.info()"
   ]
  },
  {
   "cell_type": "markdown",
   "metadata": {
    "hidden": true
   },
   "source": [
    "### 2.2.1. Conversão de tipos"
   ]
  },
  {
   "cell_type": "code",
   "execution_count": 10,
   "metadata": {
    "hidden": true
   },
   "outputs": [],
   "source": [
    "# vamos converter a coluna date de object para date"
   ]
  },
  {
   "cell_type": "code",
   "execution_count": 11,
   "metadata": {
    "hidden": true
   },
   "outputs": [],
   "source": [
    "dados.date = pd.to_datetime(dados.date)"
   ]
  },
  {
   "cell_type": "markdown",
   "metadata": {
    "hidden": true
   },
   "source": [
    "## 2.3. Check de Dados faltantes"
   ]
  },
  {
   "cell_type": "code",
   "execution_count": 12,
   "metadata": {
    "hidden": true
   },
   "outputs": [
    {
     "name": "stdout",
     "output_type": "stream",
     "text": [
      "Dados faltantes: \n",
      "Coluna 'city': 6460\n",
      "Coluna 'estimated_population_2019': 3712\n",
      "Coluna 'estimated_population': 3712\n",
      "Coluna 'city_ibge_code': 3712\n",
      "Coluna 'confirmed_per_100k_inhabitants': 17159\n"
     ]
    }
   ],
   "source": [
    "# veremos o número de dados faltantes em cada coluna\n",
    "print('Dados faltantes: ')\n",
    "print(f\"Coluna 'city': {dados['city'].isnull().sum()}\")\n",
    "print(f\"Coluna 'estimated_population_2019': {dados['estimated_population_2019'].isnull().sum()}\")\n",
    "print(f\"Coluna 'estimated_population': {dados['estimated_population'].isnull().sum()}\")\n",
    "print(f\"Coluna 'city_ibge_code': {dados['city_ibge_code'].isnull().sum()}\")\n",
    "print(f\"Coluna 'confirmed_per_100k_inhabitants': {dados['confirmed_per_100k_inhabitants'].isnull().sum()}\")"
   ]
  },
  {
   "cell_type": "code",
   "execution_count": 13,
   "metadata": {
    "hidden": true
   },
   "outputs": [],
   "source": [
    "# Vamos analisar alguns dados estatísticos para conhecermos melhor o dataset."
   ]
  },
  {
   "cell_type": "code",
   "execution_count": 14,
   "metadata": {
    "hidden": true
   },
   "outputs": [
    {
     "data": {
      "text/html": [
       "<div>\n",
       "<style scoped>\n",
       "    .dataframe tbody tr th:only-of-type {\n",
       "        vertical-align: middle;\n",
       "    }\n",
       "\n",
       "    .dataframe tbody tr th {\n",
       "        vertical-align: top;\n",
       "    }\n",
       "\n",
       "    .dataframe thead th {\n",
       "        text-align: right;\n",
       "    }\n",
       "</style>\n",
       "<table border=\"1\" class=\"dataframe\">\n",
       "  <thead>\n",
       "    <tr style=\"text-align: right;\">\n",
       "      <th></th>\n",
       "      <th>date</th>\n",
       "      <th>state</th>\n",
       "      <th>city</th>\n",
       "      <th>place_type</th>\n",
       "      <th>confirmed</th>\n",
       "      <th>deaths</th>\n",
       "      <th>order_for_place</th>\n",
       "      <th>is_last</th>\n",
       "      <th>estimated_population_2019</th>\n",
       "      <th>estimated_population</th>\n",
       "      <th>city_ibge_code</th>\n",
       "      <th>confirmed_per_100k_inhabitants</th>\n",
       "      <th>death_rate</th>\n",
       "    </tr>\n",
       "  </thead>\n",
       "  <tbody>\n",
       "    <tr>\n",
       "      <th>568878</th>\n",
       "      <td>2020-10-29</td>\n",
       "      <td>RJ</td>\n",
       "      <td>Valença</td>\n",
       "      <td>city</td>\n",
       "      <td>756</td>\n",
       "      <td>24</td>\n",
       "      <td>215</td>\n",
       "      <td>True</td>\n",
       "      <td>76523.0</td>\n",
       "      <td>76869.0</td>\n",
       "      <td>3306107.0</td>\n",
       "      <td>983.49139</td>\n",
       "      <td>0.0317</td>\n",
       "    </tr>\n",
       "    <tr>\n",
       "      <th>568879</th>\n",
       "      <td>2020-10-28</td>\n",
       "      <td>RJ</td>\n",
       "      <td>Valença</td>\n",
       "      <td>city</td>\n",
       "      <td>756</td>\n",
       "      <td>24</td>\n",
       "      <td>214</td>\n",
       "      <td>False</td>\n",
       "      <td>76523.0</td>\n",
       "      <td>76869.0</td>\n",
       "      <td>3306107.0</td>\n",
       "      <td>983.49139</td>\n",
       "      <td>0.0317</td>\n",
       "    </tr>\n",
       "    <tr>\n",
       "      <th>568880</th>\n",
       "      <td>2020-10-27</td>\n",
       "      <td>RJ</td>\n",
       "      <td>Valença</td>\n",
       "      <td>city</td>\n",
       "      <td>748</td>\n",
       "      <td>24</td>\n",
       "      <td>213</td>\n",
       "      <td>False</td>\n",
       "      <td>76523.0</td>\n",
       "      <td>76869.0</td>\n",
       "      <td>3306107.0</td>\n",
       "      <td>973.08408</td>\n",
       "      <td>0.0321</td>\n",
       "    </tr>\n",
       "    <tr>\n",
       "      <th>568881</th>\n",
       "      <td>2020-10-26</td>\n",
       "      <td>RJ</td>\n",
       "      <td>Valença</td>\n",
       "      <td>city</td>\n",
       "      <td>741</td>\n",
       "      <td>24</td>\n",
       "      <td>212</td>\n",
       "      <td>False</td>\n",
       "      <td>76523.0</td>\n",
       "      <td>76869.0</td>\n",
       "      <td>3306107.0</td>\n",
       "      <td>963.97768</td>\n",
       "      <td>0.0324</td>\n",
       "    </tr>\n",
       "    <tr>\n",
       "      <th>568882</th>\n",
       "      <td>2020-10-25</td>\n",
       "      <td>RJ</td>\n",
       "      <td>Valença</td>\n",
       "      <td>city</td>\n",
       "      <td>729</td>\n",
       "      <td>24</td>\n",
       "      <td>211</td>\n",
       "      <td>False</td>\n",
       "      <td>76523.0</td>\n",
       "      <td>76869.0</td>\n",
       "      <td>3306107.0</td>\n",
       "      <td>948.36670</td>\n",
       "      <td>0.0329</td>\n",
       "    </tr>\n",
       "    <tr>\n",
       "      <th>568883</th>\n",
       "      <td>2020-10-24</td>\n",
       "      <td>RJ</td>\n",
       "      <td>Valença</td>\n",
       "      <td>city</td>\n",
       "      <td>729</td>\n",
       "      <td>24</td>\n",
       "      <td>210</td>\n",
       "      <td>False</td>\n",
       "      <td>76523.0</td>\n",
       "      <td>76869.0</td>\n",
       "      <td>3306107.0</td>\n",
       "      <td>948.36670</td>\n",
       "      <td>0.0329</td>\n",
       "    </tr>\n",
       "    <tr>\n",
       "      <th>568884</th>\n",
       "      <td>2020-10-23</td>\n",
       "      <td>RJ</td>\n",
       "      <td>Valença</td>\n",
       "      <td>city</td>\n",
       "      <td>723</td>\n",
       "      <td>24</td>\n",
       "      <td>209</td>\n",
       "      <td>False</td>\n",
       "      <td>76523.0</td>\n",
       "      <td>76869.0</td>\n",
       "      <td>3306107.0</td>\n",
       "      <td>940.56121</td>\n",
       "      <td>0.0332</td>\n",
       "    </tr>\n",
       "    <tr>\n",
       "      <th>568885</th>\n",
       "      <td>2020-10-22</td>\n",
       "      <td>RJ</td>\n",
       "      <td>Valença</td>\n",
       "      <td>city</td>\n",
       "      <td>719</td>\n",
       "      <td>24</td>\n",
       "      <td>208</td>\n",
       "      <td>False</td>\n",
       "      <td>76523.0</td>\n",
       "      <td>76869.0</td>\n",
       "      <td>3306107.0</td>\n",
       "      <td>935.35756</td>\n",
       "      <td>0.0334</td>\n",
       "    </tr>\n",
       "    <tr>\n",
       "      <th>568886</th>\n",
       "      <td>2020-10-21</td>\n",
       "      <td>RJ</td>\n",
       "      <td>Valença</td>\n",
       "      <td>city</td>\n",
       "      <td>718</td>\n",
       "      <td>24</td>\n",
       "      <td>207</td>\n",
       "      <td>False</td>\n",
       "      <td>76523.0</td>\n",
       "      <td>76869.0</td>\n",
       "      <td>3306107.0</td>\n",
       "      <td>934.05664</td>\n",
       "      <td>0.0334</td>\n",
       "    </tr>\n",
       "    <tr>\n",
       "      <th>568887</th>\n",
       "      <td>2020-10-20</td>\n",
       "      <td>RJ</td>\n",
       "      <td>Valença</td>\n",
       "      <td>city</td>\n",
       "      <td>715</td>\n",
       "      <td>23</td>\n",
       "      <td>206</td>\n",
       "      <td>False</td>\n",
       "      <td>76523.0</td>\n",
       "      <td>76869.0</td>\n",
       "      <td>3306107.0</td>\n",
       "      <td>930.15390</td>\n",
       "      <td>0.0322</td>\n",
       "    </tr>\n",
       "    <tr>\n",
       "      <th>568888</th>\n",
       "      <td>2020-10-19</td>\n",
       "      <td>RJ</td>\n",
       "      <td>Valença</td>\n",
       "      <td>city</td>\n",
       "      <td>712</td>\n",
       "      <td>21</td>\n",
       "      <td>205</td>\n",
       "      <td>False</td>\n",
       "      <td>76523.0</td>\n",
       "      <td>76869.0</td>\n",
       "      <td>3306107.0</td>\n",
       "      <td>926.25115</td>\n",
       "      <td>0.0295</td>\n",
       "    </tr>\n",
       "    <tr>\n",
       "      <th>568889</th>\n",
       "      <td>2020-10-18</td>\n",
       "      <td>RJ</td>\n",
       "      <td>Valença</td>\n",
       "      <td>city</td>\n",
       "      <td>712</td>\n",
       "      <td>21</td>\n",
       "      <td>204</td>\n",
       "      <td>False</td>\n",
       "      <td>76523.0</td>\n",
       "      <td>76869.0</td>\n",
       "      <td>3306107.0</td>\n",
       "      <td>926.25115</td>\n",
       "      <td>0.0295</td>\n",
       "    </tr>\n",
       "    <tr>\n",
       "      <th>568890</th>\n",
       "      <td>2020-10-17</td>\n",
       "      <td>RJ</td>\n",
       "      <td>Valença</td>\n",
       "      <td>city</td>\n",
       "      <td>705</td>\n",
       "      <td>21</td>\n",
       "      <td>203</td>\n",
       "      <td>False</td>\n",
       "      <td>76523.0</td>\n",
       "      <td>76869.0</td>\n",
       "      <td>3306107.0</td>\n",
       "      <td>917.14475</td>\n",
       "      <td>0.0298</td>\n",
       "    </tr>\n",
       "    <tr>\n",
       "      <th>568891</th>\n",
       "      <td>2020-10-16</td>\n",
       "      <td>RJ</td>\n",
       "      <td>Valença</td>\n",
       "      <td>city</td>\n",
       "      <td>705</td>\n",
       "      <td>21</td>\n",
       "      <td>202</td>\n",
       "      <td>False</td>\n",
       "      <td>76523.0</td>\n",
       "      <td>76869.0</td>\n",
       "      <td>3306107.0</td>\n",
       "      <td>917.14475</td>\n",
       "      <td>0.0298</td>\n",
       "    </tr>\n",
       "    <tr>\n",
       "      <th>568892</th>\n",
       "      <td>2020-10-15</td>\n",
       "      <td>RJ</td>\n",
       "      <td>Valença</td>\n",
       "      <td>city</td>\n",
       "      <td>699</td>\n",
       "      <td>20</td>\n",
       "      <td>201</td>\n",
       "      <td>False</td>\n",
       "      <td>76523.0</td>\n",
       "      <td>76869.0</td>\n",
       "      <td>3306107.0</td>\n",
       "      <td>909.33927</td>\n",
       "      <td>0.0286</td>\n",
       "    </tr>\n",
       "    <tr>\n",
       "      <th>568893</th>\n",
       "      <td>2020-10-14</td>\n",
       "      <td>RJ</td>\n",
       "      <td>Valença</td>\n",
       "      <td>city</td>\n",
       "      <td>697</td>\n",
       "      <td>20</td>\n",
       "      <td>200</td>\n",
       "      <td>False</td>\n",
       "      <td>76523.0</td>\n",
       "      <td>76869.0</td>\n",
       "      <td>3306107.0</td>\n",
       "      <td>906.73744</td>\n",
       "      <td>0.0287</td>\n",
       "    </tr>\n",
       "    <tr>\n",
       "      <th>568894</th>\n",
       "      <td>2020-10-13</td>\n",
       "      <td>RJ</td>\n",
       "      <td>Valença</td>\n",
       "      <td>city</td>\n",
       "      <td>690</td>\n",
       "      <td>19</td>\n",
       "      <td>199</td>\n",
       "      <td>False</td>\n",
       "      <td>76523.0</td>\n",
       "      <td>76869.0</td>\n",
       "      <td>3306107.0</td>\n",
       "      <td>897.63103</td>\n",
       "      <td>0.0275</td>\n",
       "    </tr>\n",
       "    <tr>\n",
       "      <th>568895</th>\n",
       "      <td>2020-10-12</td>\n",
       "      <td>RJ</td>\n",
       "      <td>Valença</td>\n",
       "      <td>city</td>\n",
       "      <td>690</td>\n",
       "      <td>19</td>\n",
       "      <td>198</td>\n",
       "      <td>False</td>\n",
       "      <td>76523.0</td>\n",
       "      <td>76869.0</td>\n",
       "      <td>3306107.0</td>\n",
       "      <td>897.63103</td>\n",
       "      <td>0.0275</td>\n",
       "    </tr>\n",
       "    <tr>\n",
       "      <th>568896</th>\n",
       "      <td>2020-10-11</td>\n",
       "      <td>RJ</td>\n",
       "      <td>Valença</td>\n",
       "      <td>city</td>\n",
       "      <td>690</td>\n",
       "      <td>19</td>\n",
       "      <td>197</td>\n",
       "      <td>False</td>\n",
       "      <td>76523.0</td>\n",
       "      <td>76869.0</td>\n",
       "      <td>3306107.0</td>\n",
       "      <td>897.63103</td>\n",
       "      <td>0.0275</td>\n",
       "    </tr>\n",
       "    <tr>\n",
       "      <th>568897</th>\n",
       "      <td>2020-10-10</td>\n",
       "      <td>RJ</td>\n",
       "      <td>Valença</td>\n",
       "      <td>city</td>\n",
       "      <td>690</td>\n",
       "      <td>19</td>\n",
       "      <td>196</td>\n",
       "      <td>False</td>\n",
       "      <td>76523.0</td>\n",
       "      <td>76869.0</td>\n",
       "      <td>3306107.0</td>\n",
       "      <td>897.63103</td>\n",
       "      <td>0.0275</td>\n",
       "    </tr>\n",
       "    <tr>\n",
       "      <th>568898</th>\n",
       "      <td>2020-10-09</td>\n",
       "      <td>RJ</td>\n",
       "      <td>Valença</td>\n",
       "      <td>city</td>\n",
       "      <td>687</td>\n",
       "      <td>19</td>\n",
       "      <td>195</td>\n",
       "      <td>False</td>\n",
       "      <td>76523.0</td>\n",
       "      <td>76869.0</td>\n",
       "      <td>3306107.0</td>\n",
       "      <td>893.72829</td>\n",
       "      <td>0.0277</td>\n",
       "    </tr>\n",
       "    <tr>\n",
       "      <th>568899</th>\n",
       "      <td>2020-10-08</td>\n",
       "      <td>RJ</td>\n",
       "      <td>Valença</td>\n",
       "      <td>city</td>\n",
       "      <td>669</td>\n",
       "      <td>19</td>\n",
       "      <td>194</td>\n",
       "      <td>False</td>\n",
       "      <td>76523.0</td>\n",
       "      <td>76869.0</td>\n",
       "      <td>3306107.0</td>\n",
       "      <td>870.31183</td>\n",
       "      <td>0.0284</td>\n",
       "    </tr>\n",
       "    <tr>\n",
       "      <th>568900</th>\n",
       "      <td>2020-10-07</td>\n",
       "      <td>RJ</td>\n",
       "      <td>Valença</td>\n",
       "      <td>city</td>\n",
       "      <td>661</td>\n",
       "      <td>18</td>\n",
       "      <td>193</td>\n",
       "      <td>False</td>\n",
       "      <td>76523.0</td>\n",
       "      <td>76869.0</td>\n",
       "      <td>3306107.0</td>\n",
       "      <td>859.90451</td>\n",
       "      <td>0.0272</td>\n",
       "    </tr>\n",
       "    <tr>\n",
       "      <th>568901</th>\n",
       "      <td>2020-10-06</td>\n",
       "      <td>RJ</td>\n",
       "      <td>Valença</td>\n",
       "      <td>city</td>\n",
       "      <td>656</td>\n",
       "      <td>18</td>\n",
       "      <td>192</td>\n",
       "      <td>False</td>\n",
       "      <td>76523.0</td>\n",
       "      <td>76869.0</td>\n",
       "      <td>3306107.0</td>\n",
       "      <td>853.39994</td>\n",
       "      <td>0.0274</td>\n",
       "    </tr>\n",
       "    <tr>\n",
       "      <th>568902</th>\n",
       "      <td>2020-10-05</td>\n",
       "      <td>RJ</td>\n",
       "      <td>Valença</td>\n",
       "      <td>city</td>\n",
       "      <td>653</td>\n",
       "      <td>18</td>\n",
       "      <td>191</td>\n",
       "      <td>False</td>\n",
       "      <td>76523.0</td>\n",
       "      <td>76869.0</td>\n",
       "      <td>3306107.0</td>\n",
       "      <td>849.49720</td>\n",
       "      <td>0.0276</td>\n",
       "    </tr>\n",
       "    <tr>\n",
       "      <th>568903</th>\n",
       "      <td>2020-10-03</td>\n",
       "      <td>RJ</td>\n",
       "      <td>Valença</td>\n",
       "      <td>city</td>\n",
       "      <td>653</td>\n",
       "      <td>18</td>\n",
       "      <td>190</td>\n",
       "      <td>False</td>\n",
       "      <td>76523.0</td>\n",
       "      <td>76869.0</td>\n",
       "      <td>3306107.0</td>\n",
       "      <td>849.49720</td>\n",
       "      <td>0.0276</td>\n",
       "    </tr>\n",
       "    <tr>\n",
       "      <th>568904</th>\n",
       "      <td>2020-10-02</td>\n",
       "      <td>RJ</td>\n",
       "      <td>Valença</td>\n",
       "      <td>city</td>\n",
       "      <td>646</td>\n",
       "      <td>18</td>\n",
       "      <td>189</td>\n",
       "      <td>False</td>\n",
       "      <td>76523.0</td>\n",
       "      <td>76869.0</td>\n",
       "      <td>3306107.0</td>\n",
       "      <td>840.39079</td>\n",
       "      <td>0.0279</td>\n",
       "    </tr>\n",
       "    <tr>\n",
       "      <th>568905</th>\n",
       "      <td>2020-10-01</td>\n",
       "      <td>RJ</td>\n",
       "      <td>Valença</td>\n",
       "      <td>city</td>\n",
       "      <td>645</td>\n",
       "      <td>18</td>\n",
       "      <td>188</td>\n",
       "      <td>False</td>\n",
       "      <td>76523.0</td>\n",
       "      <td>76869.0</td>\n",
       "      <td>3306107.0</td>\n",
       "      <td>839.08988</td>\n",
       "      <td>0.0279</td>\n",
       "    </tr>\n",
       "    <tr>\n",
       "      <th>568906</th>\n",
       "      <td>2020-09-30</td>\n",
       "      <td>RJ</td>\n",
       "      <td>Valença</td>\n",
       "      <td>city</td>\n",
       "      <td>624</td>\n",
       "      <td>18</td>\n",
       "      <td>187</td>\n",
       "      <td>False</td>\n",
       "      <td>76523.0</td>\n",
       "      <td>76869.0</td>\n",
       "      <td>3306107.0</td>\n",
       "      <td>811.77067</td>\n",
       "      <td>0.0288</td>\n",
       "    </tr>\n",
       "    <tr>\n",
       "      <th>568907</th>\n",
       "      <td>2020-09-29</td>\n",
       "      <td>RJ</td>\n",
       "      <td>Valença</td>\n",
       "      <td>city</td>\n",
       "      <td>623</td>\n",
       "      <td>18</td>\n",
       "      <td>186</td>\n",
       "      <td>False</td>\n",
       "      <td>76523.0</td>\n",
       "      <td>76869.0</td>\n",
       "      <td>3306107.0</td>\n",
       "      <td>810.46976</td>\n",
       "      <td>0.0289</td>\n",
       "    </tr>\n",
       "    <tr>\n",
       "      <th>...</th>\n",
       "      <td>...</td>\n",
       "      <td>...</td>\n",
       "      <td>...</td>\n",
       "      <td>...</td>\n",
       "      <td>...</td>\n",
       "      <td>...</td>\n",
       "      <td>...</td>\n",
       "      <td>...</td>\n",
       "      <td>...</td>\n",
       "      <td>...</td>\n",
       "      <td>...</td>\n",
       "      <td>...</td>\n",
       "      <td>...</td>\n",
       "    </tr>\n",
       "    <tr>\n",
       "      <th>569063</th>\n",
       "      <td>2020-04-23</td>\n",
       "      <td>RJ</td>\n",
       "      <td>Valença</td>\n",
       "      <td>city</td>\n",
       "      <td>4</td>\n",
       "      <td>0</td>\n",
       "      <td>30</td>\n",
       "      <td>False</td>\n",
       "      <td>76523.0</td>\n",
       "      <td>76869.0</td>\n",
       "      <td>3306107.0</td>\n",
       "      <td>5.20366</td>\n",
       "      <td>0.0000</td>\n",
       "    </tr>\n",
       "    <tr>\n",
       "      <th>569064</th>\n",
       "      <td>2020-04-22</td>\n",
       "      <td>RJ</td>\n",
       "      <td>Valença</td>\n",
       "      <td>city</td>\n",
       "      <td>4</td>\n",
       "      <td>0</td>\n",
       "      <td>29</td>\n",
       "      <td>False</td>\n",
       "      <td>76523.0</td>\n",
       "      <td>76869.0</td>\n",
       "      <td>3306107.0</td>\n",
       "      <td>5.20366</td>\n",
       "      <td>0.0000</td>\n",
       "    </tr>\n",
       "    <tr>\n",
       "      <th>569065</th>\n",
       "      <td>2020-04-21</td>\n",
       "      <td>RJ</td>\n",
       "      <td>Valença</td>\n",
       "      <td>city</td>\n",
       "      <td>2</td>\n",
       "      <td>0</td>\n",
       "      <td>28</td>\n",
       "      <td>False</td>\n",
       "      <td>76523.0</td>\n",
       "      <td>76869.0</td>\n",
       "      <td>3306107.0</td>\n",
       "      <td>2.60183</td>\n",
       "      <td>0.0000</td>\n",
       "    </tr>\n",
       "    <tr>\n",
       "      <th>569066</th>\n",
       "      <td>2020-04-20</td>\n",
       "      <td>RJ</td>\n",
       "      <td>Valença</td>\n",
       "      <td>city</td>\n",
       "      <td>2</td>\n",
       "      <td>0</td>\n",
       "      <td>27</td>\n",
       "      <td>False</td>\n",
       "      <td>76523.0</td>\n",
       "      <td>76869.0</td>\n",
       "      <td>3306107.0</td>\n",
       "      <td>2.60183</td>\n",
       "      <td>0.0000</td>\n",
       "    </tr>\n",
       "    <tr>\n",
       "      <th>569067</th>\n",
       "      <td>2020-04-19</td>\n",
       "      <td>RJ</td>\n",
       "      <td>Valença</td>\n",
       "      <td>city</td>\n",
       "      <td>2</td>\n",
       "      <td>0</td>\n",
       "      <td>26</td>\n",
       "      <td>False</td>\n",
       "      <td>76523.0</td>\n",
       "      <td>76869.0</td>\n",
       "      <td>3306107.0</td>\n",
       "      <td>2.60183</td>\n",
       "      <td>0.0000</td>\n",
       "    </tr>\n",
       "    <tr>\n",
       "      <th>569068</th>\n",
       "      <td>2020-04-18</td>\n",
       "      <td>RJ</td>\n",
       "      <td>Valença</td>\n",
       "      <td>city</td>\n",
       "      <td>2</td>\n",
       "      <td>0</td>\n",
       "      <td>25</td>\n",
       "      <td>False</td>\n",
       "      <td>76523.0</td>\n",
       "      <td>76869.0</td>\n",
       "      <td>3306107.0</td>\n",
       "      <td>2.60183</td>\n",
       "      <td>0.0000</td>\n",
       "    </tr>\n",
       "    <tr>\n",
       "      <th>569069</th>\n",
       "      <td>2020-04-17</td>\n",
       "      <td>RJ</td>\n",
       "      <td>Valença</td>\n",
       "      <td>city</td>\n",
       "      <td>2</td>\n",
       "      <td>0</td>\n",
       "      <td>24</td>\n",
       "      <td>False</td>\n",
       "      <td>76523.0</td>\n",
       "      <td>76869.0</td>\n",
       "      <td>3306107.0</td>\n",
       "      <td>2.60183</td>\n",
       "      <td>0.0000</td>\n",
       "    </tr>\n",
       "    <tr>\n",
       "      <th>569070</th>\n",
       "      <td>2020-04-16</td>\n",
       "      <td>RJ</td>\n",
       "      <td>Valença</td>\n",
       "      <td>city</td>\n",
       "      <td>2</td>\n",
       "      <td>0</td>\n",
       "      <td>23</td>\n",
       "      <td>False</td>\n",
       "      <td>76523.0</td>\n",
       "      <td>76869.0</td>\n",
       "      <td>3306107.0</td>\n",
       "      <td>2.60183</td>\n",
       "      <td>0.0000</td>\n",
       "    </tr>\n",
       "    <tr>\n",
       "      <th>569071</th>\n",
       "      <td>2020-04-15</td>\n",
       "      <td>RJ</td>\n",
       "      <td>Valença</td>\n",
       "      <td>city</td>\n",
       "      <td>2</td>\n",
       "      <td>0</td>\n",
       "      <td>22</td>\n",
       "      <td>False</td>\n",
       "      <td>76523.0</td>\n",
       "      <td>76869.0</td>\n",
       "      <td>3306107.0</td>\n",
       "      <td>2.60183</td>\n",
       "      <td>0.0000</td>\n",
       "    </tr>\n",
       "    <tr>\n",
       "      <th>569072</th>\n",
       "      <td>2020-04-14</td>\n",
       "      <td>RJ</td>\n",
       "      <td>Valença</td>\n",
       "      <td>city</td>\n",
       "      <td>2</td>\n",
       "      <td>0</td>\n",
       "      <td>21</td>\n",
       "      <td>False</td>\n",
       "      <td>76523.0</td>\n",
       "      <td>76869.0</td>\n",
       "      <td>3306107.0</td>\n",
       "      <td>2.60183</td>\n",
       "      <td>0.0000</td>\n",
       "    </tr>\n",
       "    <tr>\n",
       "      <th>569073</th>\n",
       "      <td>2020-04-13</td>\n",
       "      <td>RJ</td>\n",
       "      <td>Valença</td>\n",
       "      <td>city</td>\n",
       "      <td>2</td>\n",
       "      <td>0</td>\n",
       "      <td>20</td>\n",
       "      <td>False</td>\n",
       "      <td>76523.0</td>\n",
       "      <td>76869.0</td>\n",
       "      <td>3306107.0</td>\n",
       "      <td>2.60183</td>\n",
       "      <td>0.0000</td>\n",
       "    </tr>\n",
       "    <tr>\n",
       "      <th>569074</th>\n",
       "      <td>2020-04-12</td>\n",
       "      <td>RJ</td>\n",
       "      <td>Valença</td>\n",
       "      <td>city</td>\n",
       "      <td>2</td>\n",
       "      <td>0</td>\n",
       "      <td>19</td>\n",
       "      <td>False</td>\n",
       "      <td>76523.0</td>\n",
       "      <td>76869.0</td>\n",
       "      <td>3306107.0</td>\n",
       "      <td>2.60183</td>\n",
       "      <td>0.0000</td>\n",
       "    </tr>\n",
       "    <tr>\n",
       "      <th>569075</th>\n",
       "      <td>2020-04-11</td>\n",
       "      <td>RJ</td>\n",
       "      <td>Valença</td>\n",
       "      <td>city</td>\n",
       "      <td>2</td>\n",
       "      <td>0</td>\n",
       "      <td>18</td>\n",
       "      <td>False</td>\n",
       "      <td>76523.0</td>\n",
       "      <td>76869.0</td>\n",
       "      <td>3306107.0</td>\n",
       "      <td>2.60183</td>\n",
       "      <td>0.0000</td>\n",
       "    </tr>\n",
       "    <tr>\n",
       "      <th>569076</th>\n",
       "      <td>2020-04-10</td>\n",
       "      <td>RJ</td>\n",
       "      <td>Valença</td>\n",
       "      <td>city</td>\n",
       "      <td>2</td>\n",
       "      <td>0</td>\n",
       "      <td>17</td>\n",
       "      <td>False</td>\n",
       "      <td>76523.0</td>\n",
       "      <td>76869.0</td>\n",
       "      <td>3306107.0</td>\n",
       "      <td>2.60183</td>\n",
       "      <td>0.0000</td>\n",
       "    </tr>\n",
       "    <tr>\n",
       "      <th>569077</th>\n",
       "      <td>2020-04-09</td>\n",
       "      <td>RJ</td>\n",
       "      <td>Valença</td>\n",
       "      <td>city</td>\n",
       "      <td>2</td>\n",
       "      <td>0</td>\n",
       "      <td>16</td>\n",
       "      <td>False</td>\n",
       "      <td>76523.0</td>\n",
       "      <td>76869.0</td>\n",
       "      <td>3306107.0</td>\n",
       "      <td>2.60183</td>\n",
       "      <td>0.0000</td>\n",
       "    </tr>\n",
       "    <tr>\n",
       "      <th>569078</th>\n",
       "      <td>2020-04-08</td>\n",
       "      <td>RJ</td>\n",
       "      <td>Valença</td>\n",
       "      <td>city</td>\n",
       "      <td>2</td>\n",
       "      <td>0</td>\n",
       "      <td>15</td>\n",
       "      <td>False</td>\n",
       "      <td>76523.0</td>\n",
       "      <td>76869.0</td>\n",
       "      <td>3306107.0</td>\n",
       "      <td>2.60183</td>\n",
       "      <td>0.0000</td>\n",
       "    </tr>\n",
       "    <tr>\n",
       "      <th>569079</th>\n",
       "      <td>2020-04-07</td>\n",
       "      <td>RJ</td>\n",
       "      <td>Valença</td>\n",
       "      <td>city</td>\n",
       "      <td>2</td>\n",
       "      <td>0</td>\n",
       "      <td>14</td>\n",
       "      <td>False</td>\n",
       "      <td>76523.0</td>\n",
       "      <td>76869.0</td>\n",
       "      <td>3306107.0</td>\n",
       "      <td>2.60183</td>\n",
       "      <td>0.0000</td>\n",
       "    </tr>\n",
       "    <tr>\n",
       "      <th>569080</th>\n",
       "      <td>2020-04-06</td>\n",
       "      <td>RJ</td>\n",
       "      <td>Valença</td>\n",
       "      <td>city</td>\n",
       "      <td>2</td>\n",
       "      <td>0</td>\n",
       "      <td>13</td>\n",
       "      <td>False</td>\n",
       "      <td>76523.0</td>\n",
       "      <td>76869.0</td>\n",
       "      <td>3306107.0</td>\n",
       "      <td>2.60183</td>\n",
       "      <td>0.0000</td>\n",
       "    </tr>\n",
       "    <tr>\n",
       "      <th>569081</th>\n",
       "      <td>2020-04-05</td>\n",
       "      <td>RJ</td>\n",
       "      <td>Valença</td>\n",
       "      <td>city</td>\n",
       "      <td>2</td>\n",
       "      <td>0</td>\n",
       "      <td>12</td>\n",
       "      <td>False</td>\n",
       "      <td>76523.0</td>\n",
       "      <td>76869.0</td>\n",
       "      <td>3306107.0</td>\n",
       "      <td>2.60183</td>\n",
       "      <td>0.0000</td>\n",
       "    </tr>\n",
       "    <tr>\n",
       "      <th>569082</th>\n",
       "      <td>2020-04-04</td>\n",
       "      <td>RJ</td>\n",
       "      <td>Valença</td>\n",
       "      <td>city</td>\n",
       "      <td>2</td>\n",
       "      <td>0</td>\n",
       "      <td>11</td>\n",
       "      <td>False</td>\n",
       "      <td>76523.0</td>\n",
       "      <td>76869.0</td>\n",
       "      <td>3306107.0</td>\n",
       "      <td>2.60183</td>\n",
       "      <td>0.0000</td>\n",
       "    </tr>\n",
       "    <tr>\n",
       "      <th>569083</th>\n",
       "      <td>2020-04-03</td>\n",
       "      <td>RJ</td>\n",
       "      <td>Valença</td>\n",
       "      <td>city</td>\n",
       "      <td>1</td>\n",
       "      <td>0</td>\n",
       "      <td>10</td>\n",
       "      <td>False</td>\n",
       "      <td>76523.0</td>\n",
       "      <td>76869.0</td>\n",
       "      <td>3306107.0</td>\n",
       "      <td>1.30091</td>\n",
       "      <td>0.0000</td>\n",
       "    </tr>\n",
       "    <tr>\n",
       "      <th>569084</th>\n",
       "      <td>2020-04-02</td>\n",
       "      <td>RJ</td>\n",
       "      <td>Valença</td>\n",
       "      <td>city</td>\n",
       "      <td>1</td>\n",
       "      <td>0</td>\n",
       "      <td>9</td>\n",
       "      <td>False</td>\n",
       "      <td>76523.0</td>\n",
       "      <td>76869.0</td>\n",
       "      <td>3306107.0</td>\n",
       "      <td>1.30091</td>\n",
       "      <td>0.0000</td>\n",
       "    </tr>\n",
       "    <tr>\n",
       "      <th>569085</th>\n",
       "      <td>2020-04-01</td>\n",
       "      <td>RJ</td>\n",
       "      <td>Valença</td>\n",
       "      <td>city</td>\n",
       "      <td>1</td>\n",
       "      <td>0</td>\n",
       "      <td>8</td>\n",
       "      <td>False</td>\n",
       "      <td>76523.0</td>\n",
       "      <td>76869.0</td>\n",
       "      <td>3306107.0</td>\n",
       "      <td>1.30091</td>\n",
       "      <td>0.0000</td>\n",
       "    </tr>\n",
       "    <tr>\n",
       "      <th>569086</th>\n",
       "      <td>2020-03-31</td>\n",
       "      <td>RJ</td>\n",
       "      <td>Valença</td>\n",
       "      <td>city</td>\n",
       "      <td>1</td>\n",
       "      <td>0</td>\n",
       "      <td>7</td>\n",
       "      <td>False</td>\n",
       "      <td>76523.0</td>\n",
       "      <td>76869.0</td>\n",
       "      <td>3306107.0</td>\n",
       "      <td>1.30091</td>\n",
       "      <td>0.0000</td>\n",
       "    </tr>\n",
       "    <tr>\n",
       "      <th>569087</th>\n",
       "      <td>2020-03-30</td>\n",
       "      <td>RJ</td>\n",
       "      <td>Valença</td>\n",
       "      <td>city</td>\n",
       "      <td>1</td>\n",
       "      <td>0</td>\n",
       "      <td>6</td>\n",
       "      <td>False</td>\n",
       "      <td>76523.0</td>\n",
       "      <td>76869.0</td>\n",
       "      <td>3306107.0</td>\n",
       "      <td>1.30091</td>\n",
       "      <td>0.0000</td>\n",
       "    </tr>\n",
       "    <tr>\n",
       "      <th>569088</th>\n",
       "      <td>2020-03-29</td>\n",
       "      <td>RJ</td>\n",
       "      <td>Valença</td>\n",
       "      <td>city</td>\n",
       "      <td>1</td>\n",
       "      <td>0</td>\n",
       "      <td>5</td>\n",
       "      <td>False</td>\n",
       "      <td>76523.0</td>\n",
       "      <td>76869.0</td>\n",
       "      <td>3306107.0</td>\n",
       "      <td>1.30091</td>\n",
       "      <td>0.0000</td>\n",
       "    </tr>\n",
       "    <tr>\n",
       "      <th>569089</th>\n",
       "      <td>2020-03-28</td>\n",
       "      <td>RJ</td>\n",
       "      <td>Valença</td>\n",
       "      <td>city</td>\n",
       "      <td>1</td>\n",
       "      <td>0</td>\n",
       "      <td>4</td>\n",
       "      <td>False</td>\n",
       "      <td>76523.0</td>\n",
       "      <td>76869.0</td>\n",
       "      <td>3306107.0</td>\n",
       "      <td>1.30091</td>\n",
       "      <td>0.0000</td>\n",
       "    </tr>\n",
       "    <tr>\n",
       "      <th>569090</th>\n",
       "      <td>2020-03-27</td>\n",
       "      <td>RJ</td>\n",
       "      <td>Valença</td>\n",
       "      <td>city</td>\n",
       "      <td>1</td>\n",
       "      <td>0</td>\n",
       "      <td>3</td>\n",
       "      <td>False</td>\n",
       "      <td>76523.0</td>\n",
       "      <td>76869.0</td>\n",
       "      <td>3306107.0</td>\n",
       "      <td>1.30091</td>\n",
       "      <td>0.0000</td>\n",
       "    </tr>\n",
       "    <tr>\n",
       "      <th>569091</th>\n",
       "      <td>2020-03-26</td>\n",
       "      <td>RJ</td>\n",
       "      <td>Valença</td>\n",
       "      <td>city</td>\n",
       "      <td>1</td>\n",
       "      <td>0</td>\n",
       "      <td>2</td>\n",
       "      <td>False</td>\n",
       "      <td>76523.0</td>\n",
       "      <td>76869.0</td>\n",
       "      <td>3306107.0</td>\n",
       "      <td>1.30091</td>\n",
       "      <td>0.0000</td>\n",
       "    </tr>\n",
       "    <tr>\n",
       "      <th>569092</th>\n",
       "      <td>2020-03-25</td>\n",
       "      <td>RJ</td>\n",
       "      <td>Valença</td>\n",
       "      <td>city</td>\n",
       "      <td>1</td>\n",
       "      <td>0</td>\n",
       "      <td>1</td>\n",
       "      <td>False</td>\n",
       "      <td>76523.0</td>\n",
       "      <td>76869.0</td>\n",
       "      <td>3306107.0</td>\n",
       "      <td>1.30091</td>\n",
       "      <td>0.0000</td>\n",
       "    </tr>\n",
       "  </tbody>\n",
       "</table>\n",
       "<p>215 rows × 13 columns</p>\n",
       "</div>"
      ],
      "text/plain": [
       "             date state     city place_type  confirmed  deaths  \\\n",
       "568878 2020-10-29    RJ  Valença       city        756      24   \n",
       "568879 2020-10-28    RJ  Valença       city        756      24   \n",
       "568880 2020-10-27    RJ  Valença       city        748      24   \n",
       "568881 2020-10-26    RJ  Valença       city        741      24   \n",
       "568882 2020-10-25    RJ  Valença       city        729      24   \n",
       "568883 2020-10-24    RJ  Valença       city        729      24   \n",
       "568884 2020-10-23    RJ  Valença       city        723      24   \n",
       "568885 2020-10-22    RJ  Valença       city        719      24   \n",
       "568886 2020-10-21    RJ  Valença       city        718      24   \n",
       "568887 2020-10-20    RJ  Valença       city        715      23   \n",
       "568888 2020-10-19    RJ  Valença       city        712      21   \n",
       "568889 2020-10-18    RJ  Valença       city        712      21   \n",
       "568890 2020-10-17    RJ  Valença       city        705      21   \n",
       "568891 2020-10-16    RJ  Valença       city        705      21   \n",
       "568892 2020-10-15    RJ  Valença       city        699      20   \n",
       "568893 2020-10-14    RJ  Valença       city        697      20   \n",
       "568894 2020-10-13    RJ  Valença       city        690      19   \n",
       "568895 2020-10-12    RJ  Valença       city        690      19   \n",
       "568896 2020-10-11    RJ  Valença       city        690      19   \n",
       "568897 2020-10-10    RJ  Valença       city        690      19   \n",
       "568898 2020-10-09    RJ  Valença       city        687      19   \n",
       "568899 2020-10-08    RJ  Valença       city        669      19   \n",
       "568900 2020-10-07    RJ  Valença       city        661      18   \n",
       "568901 2020-10-06    RJ  Valença       city        656      18   \n",
       "568902 2020-10-05    RJ  Valença       city        653      18   \n",
       "568903 2020-10-03    RJ  Valença       city        653      18   \n",
       "568904 2020-10-02    RJ  Valença       city        646      18   \n",
       "568905 2020-10-01    RJ  Valença       city        645      18   \n",
       "568906 2020-09-30    RJ  Valença       city        624      18   \n",
       "568907 2020-09-29    RJ  Valença       city        623      18   \n",
       "...           ...   ...      ...        ...        ...     ...   \n",
       "569063 2020-04-23    RJ  Valença       city          4       0   \n",
       "569064 2020-04-22    RJ  Valença       city          4       0   \n",
       "569065 2020-04-21    RJ  Valença       city          2       0   \n",
       "569066 2020-04-20    RJ  Valença       city          2       0   \n",
       "569067 2020-04-19    RJ  Valença       city          2       0   \n",
       "569068 2020-04-18    RJ  Valença       city          2       0   \n",
       "569069 2020-04-17    RJ  Valença       city          2       0   \n",
       "569070 2020-04-16    RJ  Valença       city          2       0   \n",
       "569071 2020-04-15    RJ  Valença       city          2       0   \n",
       "569072 2020-04-14    RJ  Valença       city          2       0   \n",
       "569073 2020-04-13    RJ  Valença       city          2       0   \n",
       "569074 2020-04-12    RJ  Valença       city          2       0   \n",
       "569075 2020-04-11    RJ  Valença       city          2       0   \n",
       "569076 2020-04-10    RJ  Valença       city          2       0   \n",
       "569077 2020-04-09    RJ  Valença       city          2       0   \n",
       "569078 2020-04-08    RJ  Valença       city          2       0   \n",
       "569079 2020-04-07    RJ  Valença       city          2       0   \n",
       "569080 2020-04-06    RJ  Valença       city          2       0   \n",
       "569081 2020-04-05    RJ  Valença       city          2       0   \n",
       "569082 2020-04-04    RJ  Valença       city          2       0   \n",
       "569083 2020-04-03    RJ  Valença       city          1       0   \n",
       "569084 2020-04-02    RJ  Valença       city          1       0   \n",
       "569085 2020-04-01    RJ  Valença       city          1       0   \n",
       "569086 2020-03-31    RJ  Valença       city          1       0   \n",
       "569087 2020-03-30    RJ  Valença       city          1       0   \n",
       "569088 2020-03-29    RJ  Valença       city          1       0   \n",
       "569089 2020-03-28    RJ  Valença       city          1       0   \n",
       "569090 2020-03-27    RJ  Valença       city          1       0   \n",
       "569091 2020-03-26    RJ  Valença       city          1       0   \n",
       "569092 2020-03-25    RJ  Valença       city          1       0   \n",
       "\n",
       "        order_for_place  is_last  estimated_population_2019  \\\n",
       "568878              215     True                    76523.0   \n",
       "568879              214    False                    76523.0   \n",
       "568880              213    False                    76523.0   \n",
       "568881              212    False                    76523.0   \n",
       "568882              211    False                    76523.0   \n",
       "568883              210    False                    76523.0   \n",
       "568884              209    False                    76523.0   \n",
       "568885              208    False                    76523.0   \n",
       "568886              207    False                    76523.0   \n",
       "568887              206    False                    76523.0   \n",
       "568888              205    False                    76523.0   \n",
       "568889              204    False                    76523.0   \n",
       "568890              203    False                    76523.0   \n",
       "568891              202    False                    76523.0   \n",
       "568892              201    False                    76523.0   \n",
       "568893              200    False                    76523.0   \n",
       "568894              199    False                    76523.0   \n",
       "568895              198    False                    76523.0   \n",
       "568896              197    False                    76523.0   \n",
       "568897              196    False                    76523.0   \n",
       "568898              195    False                    76523.0   \n",
       "568899              194    False                    76523.0   \n",
       "568900              193    False                    76523.0   \n",
       "568901              192    False                    76523.0   \n",
       "568902              191    False                    76523.0   \n",
       "568903              190    False                    76523.0   \n",
       "568904              189    False                    76523.0   \n",
       "568905              188    False                    76523.0   \n",
       "568906              187    False                    76523.0   \n",
       "568907              186    False                    76523.0   \n",
       "...                 ...      ...                        ...   \n",
       "569063               30    False                    76523.0   \n",
       "569064               29    False                    76523.0   \n",
       "569065               28    False                    76523.0   \n",
       "569066               27    False                    76523.0   \n",
       "569067               26    False                    76523.0   \n",
       "569068               25    False                    76523.0   \n",
       "569069               24    False                    76523.0   \n",
       "569070               23    False                    76523.0   \n",
       "569071               22    False                    76523.0   \n",
       "569072               21    False                    76523.0   \n",
       "569073               20    False                    76523.0   \n",
       "569074               19    False                    76523.0   \n",
       "569075               18    False                    76523.0   \n",
       "569076               17    False                    76523.0   \n",
       "569077               16    False                    76523.0   \n",
       "569078               15    False                    76523.0   \n",
       "569079               14    False                    76523.0   \n",
       "569080               13    False                    76523.0   \n",
       "569081               12    False                    76523.0   \n",
       "569082               11    False                    76523.0   \n",
       "569083               10    False                    76523.0   \n",
       "569084                9    False                    76523.0   \n",
       "569085                8    False                    76523.0   \n",
       "569086                7    False                    76523.0   \n",
       "569087                6    False                    76523.0   \n",
       "569088                5    False                    76523.0   \n",
       "569089                4    False                    76523.0   \n",
       "569090                3    False                    76523.0   \n",
       "569091                2    False                    76523.0   \n",
       "569092                1    False                    76523.0   \n",
       "\n",
       "        estimated_population  city_ibge_code  confirmed_per_100k_inhabitants  \\\n",
       "568878               76869.0       3306107.0                       983.49139   \n",
       "568879               76869.0       3306107.0                       983.49139   \n",
       "568880               76869.0       3306107.0                       973.08408   \n",
       "568881               76869.0       3306107.0                       963.97768   \n",
       "568882               76869.0       3306107.0                       948.36670   \n",
       "568883               76869.0       3306107.0                       948.36670   \n",
       "568884               76869.0       3306107.0                       940.56121   \n",
       "568885               76869.0       3306107.0                       935.35756   \n",
       "568886               76869.0       3306107.0                       934.05664   \n",
       "568887               76869.0       3306107.0                       930.15390   \n",
       "568888               76869.0       3306107.0                       926.25115   \n",
       "568889               76869.0       3306107.0                       926.25115   \n",
       "568890               76869.0       3306107.0                       917.14475   \n",
       "568891               76869.0       3306107.0                       917.14475   \n",
       "568892               76869.0       3306107.0                       909.33927   \n",
       "568893               76869.0       3306107.0                       906.73744   \n",
       "568894               76869.0       3306107.0                       897.63103   \n",
       "568895               76869.0       3306107.0                       897.63103   \n",
       "568896               76869.0       3306107.0                       897.63103   \n",
       "568897               76869.0       3306107.0                       897.63103   \n",
       "568898               76869.0       3306107.0                       893.72829   \n",
       "568899               76869.0       3306107.0                       870.31183   \n",
       "568900               76869.0       3306107.0                       859.90451   \n",
       "568901               76869.0       3306107.0                       853.39994   \n",
       "568902               76869.0       3306107.0                       849.49720   \n",
       "568903               76869.0       3306107.0                       849.49720   \n",
       "568904               76869.0       3306107.0                       840.39079   \n",
       "568905               76869.0       3306107.0                       839.08988   \n",
       "568906               76869.0       3306107.0                       811.77067   \n",
       "568907               76869.0       3306107.0                       810.46976   \n",
       "...                      ...             ...                             ...   \n",
       "569063               76869.0       3306107.0                         5.20366   \n",
       "569064               76869.0       3306107.0                         5.20366   \n",
       "569065               76869.0       3306107.0                         2.60183   \n",
       "569066               76869.0       3306107.0                         2.60183   \n",
       "569067               76869.0       3306107.0                         2.60183   \n",
       "569068               76869.0       3306107.0                         2.60183   \n",
       "569069               76869.0       3306107.0                         2.60183   \n",
       "569070               76869.0       3306107.0                         2.60183   \n",
       "569071               76869.0       3306107.0                         2.60183   \n",
       "569072               76869.0       3306107.0                         2.60183   \n",
       "569073               76869.0       3306107.0                         2.60183   \n",
       "569074               76869.0       3306107.0                         2.60183   \n",
       "569075               76869.0       3306107.0                         2.60183   \n",
       "569076               76869.0       3306107.0                         2.60183   \n",
       "569077               76869.0       3306107.0                         2.60183   \n",
       "569078               76869.0       3306107.0                         2.60183   \n",
       "569079               76869.0       3306107.0                         2.60183   \n",
       "569080               76869.0       3306107.0                         2.60183   \n",
       "569081               76869.0       3306107.0                         2.60183   \n",
       "569082               76869.0       3306107.0                         2.60183   \n",
       "569083               76869.0       3306107.0                         1.30091   \n",
       "569084               76869.0       3306107.0                         1.30091   \n",
       "569085               76869.0       3306107.0                         1.30091   \n",
       "569086               76869.0       3306107.0                         1.30091   \n",
       "569087               76869.0       3306107.0                         1.30091   \n",
       "569088               76869.0       3306107.0                         1.30091   \n",
       "569089               76869.0       3306107.0                         1.30091   \n",
       "569090               76869.0       3306107.0                         1.30091   \n",
       "569091               76869.0       3306107.0                         1.30091   \n",
       "569092               76869.0       3306107.0                         1.30091   \n",
       "\n",
       "        death_rate  \n",
       "568878      0.0317  \n",
       "568879      0.0317  \n",
       "568880      0.0321  \n",
       "568881      0.0324  \n",
       "568882      0.0329  \n",
       "568883      0.0329  \n",
       "568884      0.0332  \n",
       "568885      0.0334  \n",
       "568886      0.0334  \n",
       "568887      0.0322  \n",
       "568888      0.0295  \n",
       "568889      0.0295  \n",
       "568890      0.0298  \n",
       "568891      0.0298  \n",
       "568892      0.0286  \n",
       "568893      0.0287  \n",
       "568894      0.0275  \n",
       "568895      0.0275  \n",
       "568896      0.0275  \n",
       "568897      0.0275  \n",
       "568898      0.0277  \n",
       "568899      0.0284  \n",
       "568900      0.0272  \n",
       "568901      0.0274  \n",
       "568902      0.0276  \n",
       "568903      0.0276  \n",
       "568904      0.0279  \n",
       "568905      0.0279  \n",
       "568906      0.0288  \n",
       "568907      0.0289  \n",
       "...            ...  \n",
       "569063      0.0000  \n",
       "569064      0.0000  \n",
       "569065      0.0000  \n",
       "569066      0.0000  \n",
       "569067      0.0000  \n",
       "569068      0.0000  \n",
       "569069      0.0000  \n",
       "569070      0.0000  \n",
       "569071      0.0000  \n",
       "569072      0.0000  \n",
       "569073      0.0000  \n",
       "569074      0.0000  \n",
       "569075      0.0000  \n",
       "569076      0.0000  \n",
       "569077      0.0000  \n",
       "569078      0.0000  \n",
       "569079      0.0000  \n",
       "569080      0.0000  \n",
       "569081      0.0000  \n",
       "569082      0.0000  \n",
       "569083      0.0000  \n",
       "569084      0.0000  \n",
       "569085      0.0000  \n",
       "569086      0.0000  \n",
       "569087      0.0000  \n",
       "569088      0.0000  \n",
       "569089      0.0000  \n",
       "569090      0.0000  \n",
       "569091      0.0000  \n",
       "569092      0.0000  \n",
       "\n",
       "[215 rows x 13 columns]"
      ]
     },
     "execution_count": 14,
     "metadata": {},
     "output_type": "execute_result"
    }
   ],
   "source": [
    "dados[(dados.city == 'Valença') & (dados.state == 'RJ')]"
   ]
  },
  {
   "cell_type": "code",
   "execution_count": 15,
   "metadata": {
    "hidden": true
   },
   "outputs": [],
   "source": [
    "dados_numericos = dados.select_dtypes(include = ['int64', 'float64'])\n",
    "dados_numericos.drop(['order_for_place', 'city_ibge_code', 'estimated_population_2019'], axis = 1, inplace = True)\n",
    "\n",
    "dados_categoricos = dados.select_dtypes(include=['object'])"
   ]
  },
  {
   "cell_type": "code",
   "execution_count": 16,
   "metadata": {
    "hidden": true
   },
   "outputs": [
    {
     "data": {
      "text/plain": [
       "Index(['confirmed', 'deaths', 'estimated_population',\n",
       "       'confirmed_per_100k_inhabitants', 'death_rate'],\n",
       "      dtype='object')"
      ]
     },
     "execution_count": 16,
     "metadata": {},
     "output_type": "execute_result"
    }
   ],
   "source": [
    "dados_numericos.columns"
   ]
  },
  {
   "cell_type": "markdown",
   "metadata": {
    "hidden": true
   },
   "source": [
    "### 1.4.1. Dados numéricos"
   ]
  },
  {
   "cell_type": "code",
   "execution_count": 17,
   "metadata": {
    "hidden": true
   },
   "outputs": [],
   "source": [
    "# encontrando as médias"
   ]
  },
  {
   "cell_type": "code",
   "execution_count": null,
   "metadata": {
    "hidden": true
   },
   "outputs": [],
   "source": []
  },
  {
   "cell_type": "code",
   "execution_count": null,
   "metadata": {
    "hidden": true
   },
   "outputs": [],
   "source": []
  },
  {
   "cell_type": "markdown",
   "metadata": {
    "heading_collapsed": true
   },
   "source": [
    "# 3.0. CRIAÇÃO DAS HIPÓTESES"
   ]
  },
  {
   "cell_type": "markdown",
   "metadata": {
    "hidden": true
   },
   "source": [
    "## 3.1. Hipóteses"
   ]
  },
  {
   "cell_type": "markdown",
   "metadata": {
    "hidden": true
   },
   "source": [
    "**1.** Das 30 cidades com maior taxa de mortalidade, a maioria pertence ao estado de SP (estado mais populoso do país)\n",
    "\n",
    "**2.** A maioria das cidades com mais de 500k habitantes possui taxa de mortalidade acima de 5%\n",
    "\n",
    "**3.** Mais de 5% da população de cada cidade da baixada fluminense já foi infectada."
   ]
  },
  {
   "cell_type": "markdown",
   "metadata": {
    "heading_collapsed": true
   },
   "source": [
    "# 4.0. FEATURE ENGINEERING"
   ]
  },
  {
   "cell_type": "code",
   "execution_count": 19,
   "metadata": {
    "hidden": true
   },
   "outputs": [],
   "source": [
    "# vamos excluir as colunas order_for_place, is_last, estimated_population_2019, city_ibge_code\n",
    "df1 = dados.copy()\n",
    "df1.drop(['order_for_place', 'estimated_population_2019', 'city_ibge_code'],axis = 1, \n",
    "         inplace = True)"
   ]
  },
  {
   "cell_type": "markdown",
   "metadata": {
    "hidden": true
   },
   "source": [
    "##### death rate"
   ]
  },
  {
   "cell_type": "code",
   "execution_count": 20,
   "metadata": {
    "hidden": true
   },
   "outputs": [],
   "source": [
    "df1['death_rate'] = df1['death_rate'] * 100"
   ]
  },
  {
   "cell_type": "markdown",
   "metadata": {
    "hidden": true
   },
   "source": [
    "##### vamos criar uma coluna com a renda per capita por estados brasileiros"
   ]
  },
  {
   "cell_type": "code",
   "execution_count": 21,
   "metadata": {
    "hidden": true
   },
   "outputs": [],
   "source": [
    "# vamos extrair o mês\n",
    "df1['mês'] = df1['date'].dt.month"
   ]
  },
  {
   "cell_type": "code",
   "execution_count": 22,
   "metadata": {
    "hidden": true
   },
   "outputs": [],
   "source": [
    "# extraindo o dia\n",
    "df1['dia'] = df1['date'].dt.day"
   ]
  },
  {
   "cell_type": "code",
   "execution_count": 23,
   "metadata": {
    "hidden": true
   },
   "outputs": [],
   "source": [
    "# vamos inserir no dataset uma coluna com a renda per capita do estado\n",
    "per_capita = {'AP': '879', 'AC': '889', 'AM': '842', 'DF': '2.685', 'AL': '730', 'CE': '942', \n",
    "              'ES': '1.476', 'GO': '1.306', 'MS': '1.514', 'MA': '635', 'BA': '912','MT': '1.402', \n",
    "              'PA': '806', 'PB': '928', 'MG': '1.357', 'PE': '970', 'PI': '826', 'RJ': '1.881', \n",
    "              'PR': '1.620', 'RR': '1.043', 'RO': '1.136', 'RN': '1.056','SE': '979', 'RS': '1.842', \n",
    "              'SC': '1.769', 'TO': '1.055', 'SP': '1.945'}"
   ]
  },
  {
   "cell_type": "code",
   "execution_count": 24,
   "metadata": {
    "hidden": true
   },
   "outputs": [],
   "source": [
    "df1['per_capita_estado'] = df1['state']"
   ]
  },
  {
   "cell_type": "code",
   "execution_count": 25,
   "metadata": {
    "hidden": true
   },
   "outputs": [],
   "source": [
    "df1['per_capita_estado'].replace(per_capita, inplace = True)"
   ]
  },
  {
   "cell_type": "code",
   "execution_count": 26,
   "metadata": {
    "hidden": true
   },
   "outputs": [],
   "source": [
    "# retiramos o ponto dos números da coluna per_capita_estado\n",
    "df1['per_capita_estado'] = df1['per_capita_estado'].apply(lambda x: x.replace('.', ''))"
   ]
  },
  {
   "cell_type": "code",
   "execution_count": 27,
   "metadata": {
    "hidden": true
   },
   "outputs": [],
   "source": [
    "# convertendo o tipo da coluna per_capita_estado para int\n",
    "df1['per_capita_estado'] = df1['per_capita_estado'].astype('int64')"
   ]
  },
  {
   "cell_type": "markdown",
   "metadata": {
    "hidden": true
   },
   "source": [
    "##### Vamos criar uma coluna chamada \"trimestre\""
   ]
  },
  {
   "cell_type": "code",
   "execution_count": 28,
   "metadata": {
    "hidden": true
   },
   "outputs": [],
   "source": [
    "df1['trimestre'] = df1['mês'].apply(lambda x: 1 if x in [1,2,3] else 2 if x in [4,5,6] else 3 if x in [7,8,9] else 4)"
   ]
  },
  {
   "cell_type": "code",
   "execution_count": 29,
   "metadata": {
    "hidden": true
   },
   "outputs": [
    {
     "data": {
      "text/html": [
       "<div>\n",
       "<style scoped>\n",
       "    .dataframe tbody tr th:only-of-type {\n",
       "        vertical-align: middle;\n",
       "    }\n",
       "\n",
       "    .dataframe tbody tr th {\n",
       "        vertical-align: top;\n",
       "    }\n",
       "\n",
       "    .dataframe thead th {\n",
       "        text-align: right;\n",
       "    }\n",
       "</style>\n",
       "<table border=\"1\" class=\"dataframe\">\n",
       "  <thead>\n",
       "    <tr style=\"text-align: right;\">\n",
       "      <th></th>\n",
       "      <th>mês</th>\n",
       "      <th>trimestre</th>\n",
       "    </tr>\n",
       "  </thead>\n",
       "  <tbody>\n",
       "    <tr>\n",
       "      <th>823257</th>\n",
       "      <td>10</td>\n",
       "      <td>4</td>\n",
       "    </tr>\n",
       "    <tr>\n",
       "      <th>513564</th>\n",
       "      <td>8</td>\n",
       "      <td>3</td>\n",
       "    </tr>\n",
       "    <tr>\n",
       "      <th>516053</th>\n",
       "      <td>7</td>\n",
       "      <td>3</td>\n",
       "    </tr>\n",
       "    <tr>\n",
       "      <th>706130</th>\n",
       "      <td>6</td>\n",
       "      <td>2</td>\n",
       "    </tr>\n",
       "    <tr>\n",
       "      <th>407123</th>\n",
       "      <td>10</td>\n",
       "      <td>4</td>\n",
       "    </tr>\n",
       "    <tr>\n",
       "      <th>488485</th>\n",
       "      <td>4</td>\n",
       "      <td>2</td>\n",
       "    </tr>\n",
       "    <tr>\n",
       "      <th>615574</th>\n",
       "      <td>9</td>\n",
       "      <td>3</td>\n",
       "    </tr>\n",
       "    <tr>\n",
       "      <th>48997</th>\n",
       "      <td>5</td>\n",
       "      <td>2</td>\n",
       "    </tr>\n",
       "    <tr>\n",
       "      <th>755797</th>\n",
       "      <td>9</td>\n",
       "      <td>3</td>\n",
       "    </tr>\n",
       "    <tr>\n",
       "      <th>917092</th>\n",
       "      <td>7</td>\n",
       "      <td>3</td>\n",
       "    </tr>\n",
       "  </tbody>\n",
       "</table>\n",
       "</div>"
      ],
      "text/plain": [
       "        mês  trimestre\n",
       "823257   10          4\n",
       "513564    8          3\n",
       "516053    7          3\n",
       "706130    6          2\n",
       "407123   10          4\n",
       "488485    4          2\n",
       "615574    9          3\n",
       "48997     5          2\n",
       "755797    9          3\n",
       "917092    7          3"
      ]
     },
     "execution_count": 29,
     "metadata": {},
     "output_type": "execute_result"
    }
   ],
   "source": [
    "df1[['mês','trimestre']].sample(n=10)"
   ]
  },
  {
   "cell_type": "markdown",
   "metadata": {
    "hidden": true
   },
   "source": [
    "##### Vamos criar uma coluna chamada \"mais_200k\", mostrando se a cidade em questão tem mais de 200 mil habitantes (0 == True, 1 == False)"
   ]
  },
  {
   "cell_type": "code",
   "execution_count": 30,
   "metadata": {
    "hidden": true
   },
   "outputs": [],
   "source": [
    "df1['mais_500k'] = df1['estimated_population'].apply(lambda x: 0 if x > 500000.0 else 1)"
   ]
  },
  {
   "cell_type": "code",
   "execution_count": 32,
   "metadata": {
    "hidden": true
   },
   "outputs": [
    {
     "data": {
      "text/html": [
       "<div>\n",
       "<style scoped>\n",
       "    .dataframe tbody tr th:only-of-type {\n",
       "        vertical-align: middle;\n",
       "    }\n",
       "\n",
       "    .dataframe tbody tr th {\n",
       "        vertical-align: top;\n",
       "    }\n",
       "\n",
       "    .dataframe thead th {\n",
       "        text-align: right;\n",
       "    }\n",
       "</style>\n",
       "<table border=\"1\" class=\"dataframe\">\n",
       "  <thead>\n",
       "    <tr style=\"text-align: right;\">\n",
       "      <th></th>\n",
       "      <th>estimated_population</th>\n",
       "      <th>mais_500k</th>\n",
       "    </tr>\n",
       "  </thead>\n",
       "  <tbody>\n",
       "    <tr>\n",
       "      <th>940911</th>\n",
       "      <td>92060.0</td>\n",
       "      <td>1</td>\n",
       "    </tr>\n",
       "    <tr>\n",
       "      <th>823721</th>\n",
       "      <td>3331.0</td>\n",
       "      <td>1</td>\n",
       "    </tr>\n",
       "    <tr>\n",
       "      <th>639664</th>\n",
       "      <td>40867.0</td>\n",
       "      <td>1</td>\n",
       "    </tr>\n",
       "    <tr>\n",
       "      <th>242440</th>\n",
       "      <td>26426.0</td>\n",
       "      <td>1</td>\n",
       "    </tr>\n",
       "    <tr>\n",
       "      <th>733633</th>\n",
       "      <td>343132.0</td>\n",
       "      <td>1</td>\n",
       "    </tr>\n",
       "    <tr>\n",
       "      <th>190101</th>\n",
       "      <td>22490.0</td>\n",
       "      <td>1</td>\n",
       "    </tr>\n",
       "    <tr>\n",
       "      <th>191358</th>\n",
       "      <td>14503.0</td>\n",
       "      <td>1</td>\n",
       "    </tr>\n",
       "    <tr>\n",
       "      <th>434657</th>\n",
       "      <td>6398.0</td>\n",
       "      <td>1</td>\n",
       "    </tr>\n",
       "    <tr>\n",
       "      <th>89433</th>\n",
       "      <td>21591.0</td>\n",
       "      <td>1</td>\n",
       "    </tr>\n",
       "    <tr>\n",
       "      <th>42214</th>\n",
       "      <td>43829.0</td>\n",
       "      <td>1</td>\n",
       "    </tr>\n",
       "  </tbody>\n",
       "</table>\n",
       "</div>"
      ],
      "text/plain": [
       "        estimated_population  mais_500k\n",
       "940911               92060.0          1\n",
       "823721                3331.0          1\n",
       "639664               40867.0          1\n",
       "242440               26426.0          1\n",
       "733633              343132.0          1\n",
       "190101               22490.0          1\n",
       "191358               14503.0          1\n",
       "434657                6398.0          1\n",
       "89433                21591.0          1\n",
       "42214                43829.0          1"
      ]
     },
     "execution_count": 32,
     "metadata": {},
     "output_type": "execute_result"
    }
   ],
   "source": [
    "df1[['estimated_population', 'mais_500k']].sample(10)"
   ]
  },
  {
   "cell_type": "markdown",
   "metadata": {
    "hidden": true
   },
   "source": [
    "##### Agora, vamos criar uma lista com as capitais brasileiras e uma coluna chamada \"capital\", cujos valores serão 0 == True e 1 == False"
   ]
  },
  {
   "cell_type": "code",
   "execution_count": 33,
   "metadata": {
    "hidden": true
   },
   "outputs": [],
   "source": [
    "capitais = ['Rio Branco', 'Maceió ', 'Macapá', 'Manaus ', 'Salvador ', 'Fortaleza ', 'Brasília',\n",
    "            'Vitória ', 'Goiânia ', 'São Luís', 'Cuiabá ', 'Campo Grande', 'Belo Horizonte', 'Belém ', \n",
    "            'João Pessoa', 'Curitiba','Recife ', 'Teresina ', 'Rio de Janeiro', 'Natal ', \n",
    "            'Porto Alegre', 'Porto Velho', 'Boa Vista', 'Florianópolis', 'São Paulo', 'Palmas' ]\n",
    "\n",
    "estados = {'AC', 'AL', 'AP', 'AM', 'BA', \n",
    "            'CE', 'DF', 'ES', 'GO', 'MA',\n",
    "            'MT', 'MS', 'MG', 'PA', \n",
    "            'PB', 'PR', 'PE', 'PI', \n",
    "            'RJ','RN', 'RS', 'RO', \n",
    "            'RR', 'SC', 'SP', 'SE', 'TO'}\n"
   ]
  },
  {
   "cell_type": "code",
   "execution_count": 34,
   "metadata": {
    "hidden": true
   },
   "outputs": [],
   "source": [
    "df1['capital'] = df1['city'].apply(lambda x: 0 if x in capitais else 1)"
   ]
  },
  {
   "cell_type": "markdown",
   "metadata": {
    "hidden": true
   },
   "source": [
    "##### Vamos organizar melhor a ordem das colunas"
   ]
  },
  {
   "cell_type": "code",
   "execution_count": 36,
   "metadata": {
    "hidden": true
   },
   "outputs": [],
   "source": [
    "df1 = df1[['date', 'dia', 'mês', 'trimestre', 'state', 'city', 'place_type', 'capital', \n",
    "                  'confirmed', 'deaths', 'is_last', 'confirmed_per_100k_inhabitants', 'death_rate',\n",
    "                   'estimated_population', 'mais_500k', 'per_capita_estado']]"
   ]
  },
  {
   "cell_type": "markdown",
   "metadata": {
    "heading_collapsed": true
   },
   "source": [
    "# 5.0. BREVE ANÁLISE EXPLORATÓRIA"
   ]
  },
  {
   "cell_type": "code",
   "execution_count": 68,
   "metadata": {
    "hidden": true
   },
   "outputs": [
    {
     "data": {
      "image/png": "[encoded data removed]",
      "text/plain": [
       "<Figure size 648x432 with 1 Axes>"
      ]
     },
     "metadata": {
      "needs_background": "light"
     },
     "output_type": "display_data"
    }
   ],
   "source": [
    "# número de casos por estado (última atualização)\n",
    "estados_casos_last = df1[(df1['place_type'] == 'state') & df1['is_last'] == True]\n",
    "estados_casos_last.set_index('state', inplace = True)\n",
    "estados_casos_last.sort_values('confirmed', ascending=False, inplace = True)\n",
    "\n",
    "plt.figure(figsize=(9,6))\n",
    "ax = sns.barplot(data = estados_casos_last, x = estados_mortes_last.index, y = 'confirmed', \n",
    "            palette= 'hls')\n",
    "ax.yaxis.set_major_formatter(ticker.StrMethodFormatter('{x:,.2f}'))\n",
    "plt.title('Nº de casos confirmados por estado - Última atualização', fontsize = 16)\n",
    "plt.xlabel('Estado', fontsize = 14)\n",
    "plt.ylabel('Nº de casos', fontsize = 14)\n",
    "plt.xticks(rotation = 45)\n",
    "plt.grid()\n",
    "plt.show()"
   ]
  },
  {
   "cell_type": "code",
   "execution_count": 38,
   "metadata": {
    "hidden": true
   },
   "outputs": [
    {
     "data": {
      "image/png": "[encoded data removed]",
      "text/plain": [
       "<Figure size 648x432 with 1 Axes>"
      ]
     },
     "metadata": {
      "needs_background": "light"
     },
     "output_type": "display_data"
    }
   ],
   "source": [
    "# número de mortes por estado (última atualização)\n",
    "estados_mortes_last = df1[(df1['place_type'] == 'state') & df1['is_last'] == True]\n",
    "estados_mortes_last.set_index('state', inplace = True)\n",
    "estados_mortes_last.sort_values('deaths', ascending=False, inplace = True)\n",
    "\n",
    "plt.figure(figsize=(9,6))\n",
    "ax = sns.barplot(data = estados_mortes_last, x = estados_mortes_last.index, y = 'deaths', \n",
    "            palette= 'hls')\n",
    "ax.yaxis.set_major_formatter(ticker.StrMethodFormatter('{x:,.2f}'))\n",
    "plt.title('Nº de mortes confirmadas por estado - Última atualização', fontsize = 16)\n",
    "plt.xlabel('Estado', fontsize = 14)\n",
    "plt.ylabel('Nº de mortes', fontsize = 14)\n",
    "plt.xticks(rotation = 45)\n",
    "plt.grid()\n",
    "plt.show()"
   ]
  },
  {
   "cell_type": "code",
   "execution_count": 39,
   "metadata": {
    "hidden": true
   },
   "outputs": [
    {
     "data": {
      "image/png": "[encoded data removed]",
      "text/plain": [
       "<Figure size 648x432 with 1 Axes>"
      ]
     },
     "metadata": {
      "needs_background": "light"
     },
     "output_type": "display_data"
    }
   ],
   "source": [
    "# taxa de mortalidade por estado \n",
    "plt.figure(figsize = (9,6))\n",
    "estados_taxa = df1[(df1['place_type'] == 'state') & df1['is_last'] == True]\n",
    "estados_taxa.set_index('state', inplace = True)\n",
    "estados_taxa.sort_values('death_rate', ascending = False, inplace = True)\n",
    "\n",
    "ax = sns.barplot(data = estados_taxa, x = estados_taxa.index, y = 'death_rate', palette = 'hls')\n",
    "ax.yaxis.set_major_formatter(ticker.StrMethodFormatter('{x:,.2f}'))\n",
    "plt.title('Taxa de mortalidade por estado - Última atualização', fontsize = 16)\n",
    "plt.xlabel('Estado', fontsize = 14)\n",
    "plt.ylabel('Taxa de mortalidade (%)', fontsize = 14)\n",
    "plt.xticks(rotation = 45)\n",
    "plt.ylim(0.00, 7.00, 0.5)\n",
    "plt.grid()\n",
    "plt.show()"
   ]
  },
  {
   "cell_type": "markdown",
   "metadata": {
    "heading_collapsed": true
   },
   "source": [
    "# 6.0. VERIFICAÇÃO DAS HIPÓTESES"
   ]
  },
  {
   "cell_type": "markdown",
   "metadata": {
    "heading_collapsed": true,
    "hidden": true
   },
   "source": [
    "#### Hipótese: das 30 cidades com maior taxa de mortalidade, a maioria pertence ao estado de SP (estado mais populoso do país)"
   ]
  },
  {
   "cell_type": "code",
   "execution_count": null,
   "metadata": {
    "hidden": true
   },
   "outputs": [],
   "source": [
    "# 30 cidades com maior índice de mortalidade, com mais de 1000 casos confirmados, no Brasil\n",
    "maior_taxa = df1[(df1['place_type'] == 'city') & (df1['is_last'] == True) & (df1['confirmed'] >= 1000)]\n",
    "maior_taxa.sort_values('death_rate', ascending = False, inplace = True)\n",
    "maior_taxa = maior_taxa.head(30)\n",
    "taxas = maior_taxa['death_rate']"
   ]
  },
  {
   "cell_type": "code",
   "execution_count": null,
   "metadata": {
    "hidden": true
   },
   "outputs": [],
   "source": [
    "# labels com cidade e estado para o eixo x\n",
    "labels = []\n",
    "\n",
    "for x in zip(maior_taxa['city'], maior_taxa['state']):\n",
    "    label = x[0] + ' (' + x[1] + ')'\n",
    "    labels.append(label)"
   ]
  },
  {
   "cell_type": "code",
   "execution_count": 42,
   "metadata": {
    "hidden": true
   },
   "outputs": [
    {
     "data": {
      "image/png": "[encoded data removed]",
      "text/plain": [
       "<Figure size 720x576 with 1 Axes>"
      ]
     },
     "metadata": {
      "needs_background": "light"
     },
     "output_type": "display_data"
    }
   ],
   "source": [
    "plt.figure(figsize = (10,8))\n",
    "\n",
    "ax = sns.barplot( x = taxas, y = labels,\n",
    "           palette = 'autumn_r', orient = 'h')\n",
    "#ax.set_xticklabels(labels, rotation = 90)\n",
    "\n",
    "plt.grid()\n",
    "plt.show()"
   ]
  },
  {
   "cell_type": "markdown",
   "metadata": {
    "hidden": true
   },
   "source": [
    "##### Percebemos que, das 30 cidades com maiores taxas de mortalidade, apenas 6 pertencem ao estado de SP. Observamos também que, das 9 cidades do RJ, 5 são da baixada fluminense, além da própria capital. \n",
    "\n",
    "##### Temos a seguinte ordem:"
   ]
  },
  {
   "cell_type": "code",
   "execution_count": 120,
   "metadata": {
    "hidden": true
   },
   "outputs": [
    {
     "data": {
      "image/png": "[encoded data removed]",
      "text/plain": [
       "<Figure size 648x432 with 1 Axes>"
      ]
     },
     "metadata": {
      "needs_background": "light"
     },
     "output_type": "display_data"
    }
   ],
   "source": [
    "maior_taxa['state'].value_counts().plot(kind = 'bar', figsize = (9,6))\n",
    "\n",
    "plt.title('Quantidade de cidades, por estado, entre as 30 maiores taxas de mortalidade', fontsize = 16)\n",
    "plt.xlabel('Estados', fontsize = 14)\n",
    "plt.ylabel('Quantidade de cidades', fontsize = 14)\n",
    "plt.xticks(rotation = 0)\n",
    "plt.grid()\n",
    "plt.show()"
   ]
  },
  {
   "cell_type": "markdown",
   "metadata": {
    "heading_collapsed": true,
    "hidden": true
   },
   "source": [
    "#### Hipótese: A maioria das cidades com mais de 500k habitantes possui taxa de mortalidade acima de 5%."
   ]
  },
  {
   "cell_type": "code",
   "execution_count": 121,
   "metadata": {
    "hidden": true
   },
   "outputs": [],
   "source": [
    "# utilizaremos apenas cidades que possuem a coluna is_last == True\n",
    "taxa_500k = df1[(df1['mais_500k'] == 0) & (df1['is_last'] == True) & (df1['place_type'] == 'city')] \n",
    "taxa_500k.sort_values('death_rate', ascending = False, inplace = True)"
   ]
  },
  {
   "cell_type": "code",
   "execution_count": 122,
   "metadata": {
    "hidden": true
   },
   "outputs": [
    {
     "data": {
      "image/png": "[encoded data removed]",
      "text/plain": [
       "<Figure size 648x432 with 1 Axes>"
      ]
     },
     "metadata": {
      "needs_background": "light"
     },
     "output_type": "display_data"
    }
   ],
   "source": [
    "estados = taxa_500k['state'].value_counts().index\n",
    "quantidades = taxa_500k['state'].value_counts().values\n",
    "\n",
    "plt.figure(figsize = (9,6))\n",
    "sns.barplot( x = estados, y = quantidades)\n",
    "plt.title('Quantidade de cidades, por estado, com mais de 500 mil habitantes', fontsize = 16)\n",
    "plt.xlabel('Estados', fontsize = 14)\n",
    "plt.ylabel('Quantidade de cidades', fontsize = 14)\n",
    "plt.yticks([0,1,2,3,4,5,6,7,8,9])\n",
    "plt.grid()"
   ]
  },
  {
   "cell_type": "markdown",
   "metadata": {
    "heading_collapsed": true,
    "hidden": true
   },
   "source": [
    "##### A hipótese não foi validada, pois apenas 12 das 49 cidades com mais de 500k habitantes possuem taxa de mortalidade acima de 5%."
   ]
  },
  {
   "cell_type": "code",
   "execution_count": 79,
   "metadata": {
    "hidden": true
   },
   "outputs": [
    {
     "name": "stdout",
     "output_type": "stream",
     "text": [
      "Quantidade de cidades brasileiras com mais de 500k habitantes:  49\n",
      "Quantidade de cidades com mais de 500k habitantes e taxa de mortalidade acima de 5%:  12\n"
     ]
    }
   ],
   "source": [
    "print('Quantidade de cidades brasileiras com mais de 500k habitantes: ', \n",
    "      taxa_500k.shape[0])\n",
    "print('Quantidade de cidades com mais de 500k habitantes e taxa de mortalidade acima de 5%: ', \n",
    "      taxa_500k[taxa_500k['death_rate'] > 5.00].shape[0])"
   ]
  },
  {
   "cell_type": "code",
   "execution_count": 83,
   "metadata": {
    "hidden": true
   },
   "outputs": [],
   "source": [
    "labels = []\n",
    "\n",
    "for x in zip(taxa_500k['city'], taxa_500k['state']):\n",
    "    label = x[0] + ' (' + x[1] + ')'\n",
    "    labels.append(label)"
   ]
  },
  {
   "cell_type": "code",
   "execution_count": 98,
   "metadata": {
    "hidden": true
   },
   "outputs": [
    {
     "data": {
      "image/png": "[encoded data removed]",
      "text/plain": [
       "<Figure size 720x648 with 1 Axes>"
      ]
     },
     "metadata": {
      "needs_background": "light"
     },
     "output_type": "display_data"
    }
   ],
   "source": [
    "plt.figure(figsize = (10,9))\n",
    "sns.barplot(x = taxa_500k['death_rate'], y = labels, palette = 'autumn_r', orient = 'h')\n",
    "#plt.xticks(ticks = [0,2.5,5,7.5,10,12.5])\n",
    "plt.xticks(ticks = [0,1,2,3,4,5,6,7,8,9,10,11])\n",
    "plt.grid()\n",
    "plt.show()"
   ]
  },
  {
   "cell_type": "markdown",
   "metadata": {
    "heading_collapsed": true,
    "hidden": true
   },
   "source": [
    "#### Mais de 5% da população de cada cidade da baixada fluminense já foi infectada."
   ]
  },
  {
   "cell_type": "code",
   "execution_count": 183,
   "metadata": {
    "hidden": true
   },
   "outputs": [],
   "source": [
    "baixada_rj = df1.copy()"
   ]
  },
  {
   "cell_type": "code",
   "execution_count": 184,
   "metadata": {
    "hidden": true
   },
   "outputs": [],
   "source": [
    "cidades_baixada = [ 'Belford Roxo', 'Duque de Caxias', 'Guapimirim', 'Japeri', 'Queimados', 'Magé', \n",
    "                   'Mesquita', 'Nilópolis', 'Nova Iguaçu', 'São João de Meriti']\n",
    "baixada_rj['baixada'] = baixada_rj['city'].apply(lambda x: 0 if x in cidades_baixada else 1)\n",
    "baixada_rj = baixada_rj[(baixada_rj['state'] == 'RJ') & (baixada_rj['baixada'] == 0) & (baixada_rj['is_last'] == True)]"
   ]
  },
  {
   "cell_type": "code",
   "execution_count": 185,
   "metadata": {
    "hidden": true
   },
   "outputs": [],
   "source": [
    "# criamos uma coluna que dirá se a cidade já teve mais de 1% de sua população infectada\n",
    "baixada_rj['acima_de_1%'] = baixada_rj['confirmed'] > baixada_rj['estimated_population'] * 0.01\n",
    "baixada_rj['acima_de_1%'] = baixada_rj['acima_de_1%'].apply(lambda x: 0 if x == True else 1)\n",
    "\n",
    "# separamos as cidades com a coluna 'acima_de_1 == 0' das cidades com a coluna 'acima_de_1 == 1'\n",
    "acima_de_um = baixada_rj[baixada_rj['acima_de_1%'] == 0].sort_values('acima_de_1%')\n",
    "abaixo_de_um = baixada_rj[baixada_rj['acima_de_1%'] == 1].sort_values('acima_de_1%')"
   ]
  },
  {
   "cell_type": "markdown",
   "metadata": {
    "hidden": true
   },
   "source": [
    "##### A hipótese não foi validada, pois há 4 cidades nas quais ainda não há 1% da população infectada com a COVID-19. "
   ]
  },
  {
   "cell_type": "code",
   "execution_count": 230,
   "metadata": {
    "hidden": true
   },
   "outputs": [
    {
     "data": {
      "image/png": "[encoded data removed]",
      "text/plain": [
       "<Figure size 1584x576 with 2 Axes>"
      ]
     },
     "metadata": {
      "needs_background": "light"
     },
     "output_type": "display_data"
    }
   ],
   "source": [
    "plt.figure(figsize=(22,8))\n",
    "plt.subplots_adjust(left=0.125, bottom=0.1, right=0.9, top=0.79,\n",
    "                      wspace=0.5, hspace=0.2)\n",
    "\n",
    "plt.suptitle('Cidades da Baixada Fluminense onde mais de 1% da população foi infectada por COVID-19 ', \n",
    "             fontsize=30 , fontweight = 'bold', fontstyle = 'oblique')\n",
    "plt.subplot(1,2,1)\n",
    "ax = sns.barplot(data = acima_de_um.sort_values('estimated_population', ascending = False), \n",
    "                 x = 'estimated_population', y = 'city', orient = 'h', palette = 'winter_r')\n",
    "ax.xaxis.set_major_formatter(ticker.StrMethodFormatter('{x:,.0f}'))\n",
    "plt.title('População estimada', fontsize = 31)\n",
    "plt.xlabel(' ', fontsize = 20)\n",
    "plt.ylabel(' ')\n",
    "plt.xticks([100000,300000,500000,700000,900000] ,fontsize = 20)\n",
    "plt.yticks(fontsize = 20)\n",
    "plt.grid()\n",
    "\n",
    "plt.subplot(1,2,2)\n",
    "\n",
    "ax2 = sns.barplot(data = acima_de_um.sort_values('confirmed', ascending = False), \n",
    "                  x = 'confirmed', y = 'city', orient = 'h', palette = 'winter_r')\n",
    "ax2.xaxis.set_major_formatter(ticker.StrMethodFormatter('{x:,.0f}'))\n",
    "plt.title('Número de casos', fontsize = 31)\n",
    "plt.xlabel(' ', fontsize = 20)\n",
    "plt.ylabel(' ')\n",
    "plt.xticks(fontsize = 20)\n",
    "plt.yticks(fontsize = 20)\n",
    "plt.grid()"
   ]
  },
  {
   "cell_type": "code",
   "execution_count": 234,
   "metadata": {
    "hidden": true
   },
   "outputs": [
    {
     "data": {
      "image/png": "[encoded data removed]",
      "text/plain": [
       "<Figure size 1584x576 with 2 Axes>"
      ]
     },
     "metadata": {
      "needs_background": "light"
     },
     "output_type": "display_data"
    }
   ],
   "source": [
    "plt.figure(figsize=(22,8))\n",
    "plt.subplots_adjust(left=0.125, bottom=0.1, right=0.9, top=0.79,\n",
    "                      wspace=0.5, hspace=0.2)\n",
    "\n",
    "plt.suptitle('Cidades da Baixada Fluminense onde menos de 1% da população foi infectada por COVID-19 ', \n",
    "             fontsize=30 , fontweight = 'bold', fontstyle = 'oblique')\n",
    "plt.subplot(1,2,1)\n",
    "ax = sns.barplot(data = abaixo_de_um.sort_values('estimated_population', ascending = False), \n",
    "                 x = 'estimated_population', y = 'city', orient = 'h', palette = 'winter_r')\n",
    "ax.xaxis.set_major_formatter(ticker.StrMethodFormatter('{x:,.0f}'))\n",
    "plt.title('População estimada', fontsize = 31)\n",
    "plt.xlabel(' ', fontsize = 20)\n",
    "plt.ylabel(' ')\n",
    "plt.xticks([100000,300000,500000,700000,900000] ,fontsize = 20)\n",
    "plt.yticks(fontsize = 20)\n",
    "plt.grid()\n",
    "\n",
    "plt.subplot(1,2,2)\n",
    "\n",
    "ax2 = sns.barplot(data = abaixo_de_um.sort_values('confirmed', ascending = False), \n",
    "                  x = 'confirmed', y = 'city', orient = 'h', palette = 'winter_r')\n",
    "ax2.xaxis.set_major_formatter(ticker.StrMethodFormatter('{x:,.0f}'))\n",
    "plt.title('Número de casos', fontsize = 31)\n",
    "plt.xlabel(' ', fontsize = 20)\n",
    "plt.ylabel(' ')\n",
    "plt.xticks(fontsize = 20)\n",
    "plt.yticks(fontsize = 20)\n",
    "plt.grid()"
   ]
  },
  {
   "cell_type": "code",
   "execution_count": null,
   "metadata": {
    "hidden": true
   },
   "outputs": [],
   "source": []
  }
 ],
 "metadata": {
  "kernelspec": {
   "display_name": "Python 3",
   "language": "python",
   "name": "python3"
  },
  "language_info": {
   "codemirror_mode": {
    "name": "ipython",
    "version": 3
   },
   "file_extension": ".py",
   "mimetype": "text/x-python",
   "name": "python",
   "nbconvert_exporter": "python",
   "pygments_lexer": "ipython3",
   "version": "3.8.5"
  }
 },
 "nbformat": 4,
 "nbformat_minor": 2
}
